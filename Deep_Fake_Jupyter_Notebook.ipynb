{
 "cells": [
  {
   "cell_type": "markdown",
   "metadata": {
    "colab_type": "text",
    "id": "cdO_RxQZLahB"
   },
   "source": [
    "# Deep fake\n",
    "\n",
    "Infelizmente deep fake tem um potencial destrutivo. meu warning é importante. Você pode usar este notebook apenas com imagens de quem te deu autorização explícita para fazer os testes de deep fake, sem exceção. Grandes poderes, grandes responsabilidades. Queremos informar, ensinar, aprender.\n",
    "\n",
    "Caso forke esse notebook, siga as regras de uso.\n",
    "\n"
   ]
  },
  {
   "cell_type": "markdown",
   "metadata": {
    "colab_type": "text",
    "id": "3J3VQO3fPMvN"
   },
   "source": [
    "Automatizado por Guilherme Silveira, https://twitter.com/guilhermecaelum\n",
    "\n",
    "Original de https://colab.research.google.com/github/AliaksandrSiarohin/first-order-model/blob/master/demo.ipynb \"First Order Motion Model for Image Animation\"\n"
   ]
  },
  {
   "cell_type": "markdown",
   "metadata": {
    "colab_type": "text",
    "id": "VsgVK1EURXkd"
   },
   "source": [
    "### PASSO 1\n",
    "\n",
    "Se cadastre e baixe o arquivo vox-cpk.pth.tar se cadastrando aqui e baixando https://yadi.sk/d/lEw8uRm140L_eQ\n",
    "Ou então em https://mega.nz/file/59JknSyY#R1jZr0MIb8rfpoQCX787AVcUPT96uTpfA5GdlrpL7vM"
   ]
  },
  {
   "cell_type": "markdown",
   "metadata": {
    "colab_type": "text",
    "id": "1fi2QAwUvM2O"
   },
   "source": [
    "### PASSO 2\n",
    "\n",
    "Crie um diretório chamado `deepfake` no seu google drive.\n",
    "\n",
    "Coloque lá:\n",
    "- uma imagem com `nome.png`\n",
    "- o vídeo com `nome.mp4`\n",
    "- o arquivo `vox-cpk.pth.tar`"
   ]
  },
  {
   "cell_type": "code",
   "execution_count": null,
   "metadata": {},
   "outputs": [],
   "source": [
    "# Definir Diretório Raiz\n",
    "\n",
    "import os\n",
    "local = os.getcwd()\n",
    "print('Seu diretório raiz esta localizado em:', local)"
   ]
  },
  {
   "cell_type": "markdown",
   "metadata": {
    "colab_type": "text",
    "id": "n_0oq98AvazZ"
   },
   "source": [
    "### PASSO 3"
   ]
  },
  {
   "cell_type": "code",
   "execution_count": null,
   "metadata": {
    "colab": {},
    "colab_type": "code",
    "id": "zxcGM1rnB2l-"
   },
   "outputs": [],
   "source": [
    "# coloque aqui o nome do arquivo da sua imagem e a extensão\n",
    "\n",
    "base_name = \"image\"\n",
    "image_extension = \"png\""
   ]
  },
  {
   "cell_type": "markdown",
   "metadata": {
    "colab_type": "text",
    "id": "dUUstSFfvcBq"
   },
   "source": [
    "### PASSO 4"
   ]
  },
  {
   "cell_type": "code",
   "execution_count": null,
   "metadata": {
    "colab": {},
    "colab_type": "code",
    "id": "iHolBXBQsWVl"
   },
   "outputs": [],
   "source": [
    "# PASSO 4\n",
    "\n",
    "# corrija o corte do vídeo de origem. rode uma vez assim, depois vá atualizando\n",
    "\n",
    "# assumindo que o vídeo é 1920 x 1080\n",
    "# o rosto da pessoa está na parte \"de baixo\" do vídeo\n",
    "\n",
    "# Se seu video estiver nas dimenções 256 x 256 não será necessario um corte\n",
    "\n",
    "DIMENSION = 256\n",
    "MIN_X = 0\n",
    "MIN_Y = 0\n",
    "\n",
    "should_crop = True"
   ]
  },
  {
   "cell_type": "markdown",
   "metadata": {
    "colab_type": "text",
    "id": "GCDNKsEGLtR6"
   },
   "source": [
    "## Setup de diretórios"
   ]
  },
  {
   "cell_type": "markdown",
   "metadata": {
    "colab_type": "text",
    "id": "J96x9Li2D2cZ"
   },
   "source": [
    "**Git clone**"
   ]
  },
  {
   "cell_type": "code",
   "execution_count": null,
   "metadata": {
    "colab": {
     "base_uri": "https://localhost:8080/",
     "height": 105
    },
    "colab_type": "code",
    "id": "UCMFMJV7K-ag",
    "outputId": "ddd86c81-9525-46ad-d951-6f3053c1fe07"
   },
   "outputs": [],
   "source": [
    "# O processo abaixo pode levar alguns segundos, pois os mesmos estão sendo clonados de um repositório\n",
    "!git clone https://github.com/AliaksandrSiarohin/first-order-model"
   ]
  },
  {
   "cell_type": "code",
   "execution_count": null,
   "metadata": {
    "colab": {
     "base_uri": "https://localhost:8080/",
     "height": 34
    },
    "colab_type": "code",
    "id": "PBp6l_4bBYUL",
    "outputId": "b7bfd22d-89e3-45fe-b489-b0ea7f7514d1"
   },
   "outputs": [],
   "source": [
    "cd first-order-model"
   ]
  },
  {
   "cell_type": "markdown",
   "metadata": {
    "colab_type": "text",
    "id": "iGgSoX7cGd-e"
   },
   "source": [
    "# Pequenas alterações no vídeo original"
   ]
  },
  {
   "cell_type": "code",
   "execution_count": null,
   "metadata": {
    "colab": {},
    "colab_type": "code",
    "id": "gpSL35R1oxA1"
   },
   "outputs": [],
   "source": [
    "movie_input = base_name\n",
    "movie_original = f\"{local}\\{movie_input}.mp4\"\n",
    "print(movie_original)"
   ]
  },
  {
   "cell_type": "code",
   "execution_count": null,
   "metadata": {
    "colab": {},
    "colab_type": "code",
    "id": "tAbNFVmtjhb1"
   },
   "outputs": [],
   "source": [
    "input = base_name\n",
    "image_output = f\"{local}\\{input}-256.png\"\n",
    "print(image_output)"
   ]
  },
  {
   "cell_type": "markdown",
   "metadata": {
    "colab_type": "text",
    "id": "6-kY9lf-G2Lv"
   },
   "source": [
    "## Conferindo dimensões"
   ]
  },
  {
   "cell_type": "code",
   "execution_count": null,
   "metadata": {
    "colab": {},
    "colab_type": "code",
    "id": "lubUOieukUQ9"
   },
   "outputs": [],
   "source": [
    "import warnings\n",
    "\n",
    "\n",
    "warnings.filterwarnings(\"ignore\")"
   ]
  },
  {
   "cell_type": "code",
   "execution_count": null,
   "metadata": {},
   "outputs": [],
   "source": [
    "# Install Pillow\n",
    "!pip install pip\n",
    "!pip install --upgrade pip\n",
    "!pip install --upgrade Pillow"
   ]
  },
  {
   "cell_type": "code",
   "execution_count": null,
   "metadata": {},
   "outputs": [],
   "source": [
    "print('Diretório atual: '+os.getcwd() )"
   ]
  },
  {
   "cell_type": "code",
   "execution_count": null,
   "metadata": {
    "colab": {
     "base_uri": "https://localhost:8080/",
     "height": 343
    },
    "colab_type": "code",
    "id": "dOKIns0fmD2Z",
    "outputId": "6685e8cb-8fc4-4ad3-ffe7-3977ab0d239b"
   },
   "outputs": [],
   "source": [
    "from PIL import Image\n",
    "\n",
    "\n",
    "im = Image.open(f\"../{input}.{image_extension}\")\n",
    "width, height = im.size\n",
    "\n",
    "if width != height:\n",
    "  new_size = min(width, height)\n",
    "  left = (width - new_size)/2\n",
    "  top = (height - new_size)/2\n",
    "  right = (width + new_size)/2\n",
    "  bottom = (height + new_size)/2\n",
    "\n",
    "  cut = (left, top, right, bottom)\n",
    "  print(cut)\n",
    "  im = im.crop(cut)\n",
    "  print(f\"Oh, a imagem que você pegou não é quadrada, cortando o meio... {width} x {height}\")\n",
    "\n",
    "\n",
    "if width < 256:\n",
    "  raise Exception(f\"Oh, a imagem que você pegou é pequena, vai zoar! {width}\")\n",
    "\n",
    "print(im.size)\n",
    "im.thumbnail((256, 256))\n",
    "print(im.size)\n",
    "im.save(image_output)\n",
    "display(im)"
   ]
  },
  {
   "cell_type": "code",
   "execution_count": null,
   "metadata": {},
   "outputs": [],
   "source": [
    "# Install moviepy\n",
    "!pip install moviepy"
   ]
  },
  {
   "cell_type": "code",
   "execution_count": null,
   "metadata": {},
   "outputs": [],
   "source": [
    "# FFMPEG\n",
    "# Encontre uma ferramenta de FFMPEG e clone para dentro do diretorio raiz"
   ]
  },
  {
   "cell_type": "code",
   "execution_count": null,
   "metadata": {
    "colab": {},
    "colab_type": "code",
    "id": "ow8JDco4ry7P"
   },
   "outputs": [],
   "source": [
    "import os\n",
    "import shutil\n",
    "from moviepy.editor import VideoFileClip\n",
    "\n",
    "movie_source = \"../movie_quadrado.mp4\"\n",
    "\n",
    "if should_crop:\n",
    "  !ffmpeg -y -hide_banner -loglevel warning -i \"{movie_original}\" -filter:v \"crop={DIMENSION}:{DIMENSION}:{MIN_X}:{MIN_Y}\" \"$movie_source\"\n",
    "else:\n",
    "  shutil.copyfile(movie_original, movie_source)"
   ]
  },
  {
   "cell_type": "code",
   "execution_count": null,
   "metadata": {
    "colab": {
     "base_uri": "https://localhost:8080/",
     "height": 148
    },
    "colab_type": "code",
    "id": "UeYs_ztNI9V7",
    "outputId": "278c259a-06db-498f-fe55-e933d74cab8f"
   },
   "outputs": [],
   "source": [
    "from moviepy.editor import ipython_display\n",
    "\n",
    "\n",
    "ipython_display(movie_source, width=256)"
   ]
  },
  {
   "cell_type": "markdown",
   "metadata": {
    "colab_type": "text",
    "id": "rW-ipQXPOWUo"
   },
   "source": [
    "## Gerando mp3 e alterando tamanhos"
   ]
  },
  {
   "cell_type": "code",
   "execution_count": null,
   "metadata": {
    "colab": {},
    "colab_type": "code",
    "id": "Tt1iGxON_Wvj"
   },
   "outputs": [],
   "source": [
    "generated_audio = f\"../generated_audio_{base_name}.mp3\"\n",
    "!ffmpeg -y -hide_banner -loglevel warning -i \"$movie_original\" -vn -ar 44100 -ac 2 -ab 192k -f mp3 \"$generated_audio\""
   ]
  },
  {
   "cell_type": "code",
   "execution_count": null,
   "metadata": {},
   "outputs": [],
   "source": [
    "# Install scikit-image\n",
    "!pip install scikit-image\n",
    "\n",
    "# Widgets\n",
    "!pip install ipywidgets\n",
    "!jupyter nbextension enable --py widgetsnbextension --sys-prefix\n",
    "!jupyter labextension install @jupyter-widgets/jupyterlab-manager"
   ]
  },
  {
   "cell_type": "code",
   "execution_count": null,
   "metadata": {},
   "outputs": [],
   "source": [
    "# TQDM - PROGRESS BAR\n",
    "\n",
    "!pip install tqdm\n",
    "os.system('pip install -e git+https://github.com/tqdm/tqdm.git@master#egg=tqdm')"
   ]
  },
  {
   "cell_type": "code",
   "execution_count": null,
   "metadata": {
    "colab": {
     "base_uri": "https://localhost:8080/",
     "height": 66,
     "referenced_widgets": [
      "05e6b4ab31374244ba979bcaede1ac18",
      "bf6e0b26d26e44c2b3f82144071a470f",
      "24ac98526f03481fbd833442a54ab76f",
      "895f43e2a0054926ae173cd62c363e16",
      "ba6afc8c402745cbaceb100e22eff3e0",
      "1742c20c72964f94aee945b5c47b5da0",
      "e30affb88bcb4c228790be7cd9436e79",
      "9d0975cce3c24c9b87fc42cb3650e806"
     ]
    },
    "colab_type": "code",
    "id": "ap4xzOQMkDh7",
    "outputId": "67ac628d-be24-432a-ce64-6b5a67e8cb34"
   },
   "outputs": [],
   "source": [
    "import imageio\n",
    "from skimage.transform import resize\n",
    "from tqdm.notebook import trange, tqdm\n",
    "\n",
    "source_image = imageio.imread(image_output)\n",
    "driving_video = imageio.mimread(movie_source, memtest=False)\n",
    "\n",
    "source_image = resize(source_image, (256, 256))[..., :3]\n",
    "driving_video = [resize(frame, (256, 256))[..., :3] for frame in tqdm(driving_video, desc=\"video resize\")]"
   ]
  },
  {
   "cell_type": "code",
   "execution_count": null,
   "metadata": {},
   "outputs": [],
   "source": [
    "!pip install matplotlib"
   ]
  },
  {
   "cell_type": "code",
   "execution_count": null,
   "metadata": {
    "colab": {
     "base_uri": "https://localhost:8080/",
     "height": 502,
     "referenced_widgets": [
      "1e6218d491b049279b8f9dd30df6ccf3",
      "67b55aef73664ecf83cfd5399249186a",
      "21c8a0425586405d875b05465a9a8f9e",
      "7bad2cbb8d8d4f829fa97c63c7c05529",
      "a7d0014e3b1b47c2b4f9f74064fa0e4d",
      "168b80f95ad542918a7b1395ccaa8e76",
      "05143068482448579feb17bca668413d",
      "470b54291e1741c1a6921ab841081557"
     ]
    },
    "colab_type": "code",
    "id": "Oxi6-riLOgnm",
    "outputId": "5d7ea89e-f66e-4e51-9048-fa3c2cce68bc"
   },
   "outputs": [],
   "source": [
    "import numpy as np\n",
    "import matplotlib.pyplot as plt\n",
    "import matplotlib.animation as animation\n",
    "from IPython.display import HTML\n",
    "\n",
    "\n",
    "def display_side_by_side(source, driving, generated=None):\n",
    "    fig = plt.figure(figsize=(8 + 4 * (generated is not None), 6))\n",
    "\n",
    "    ims = []\n",
    "    for i in tqdm(range(len(driving)), \"generating slides\"):\n",
    "        cols = [source]\n",
    "        cols.append(driving[i])\n",
    "        if generated:\n",
    "        # if generated is not None:\n",
    "            cols.append(generated[i])\n",
    "        im = plt.imshow(np.concatenate(cols, axis=1), animated=True)\n",
    "        plt.axis('off')\n",
    "        ims.append([im])\n",
    "\n",
    "    ani = animation.ArtistAnimation(fig, ims, interval=50, repeat=False)\n",
    "    plt.close()\n",
    "    return HTML(ani.to_html5_video())\n",
    "\n",
    "\n",
    "display_side_by_side(source_image, driving_video)"
   ]
  },
  {
   "cell_type": "markdown",
   "metadata": {
    "colab_type": "text",
    "id": "xjM7ubVfWrwT"
   },
   "source": [
    "# O deepfake"
   ]
  },
  {
   "cell_type": "code",
   "execution_count": null,
   "metadata": {
    "colab": {},
    "colab_type": "code",
    "id": "Hzxke-GCJi7m"
   },
   "outputs": [],
   "source": [
    "# se a célula a seguir não funcionar, descomente a linha a seguir\n",
    "# por exemplo, se você usa o google colab pro, você talvez\n",
    "# tenha que definir qual device de GPU será utilizado, por isso ;)\n",
    "\n",
    "CUDA_VISIBLE_DEVICES=0"
   ]
  },
  {
   "cell_type": "code",
   "execution_count": null,
   "metadata": {
    "colab": {},
    "colab_type": "code",
    "id": "MHLlvkW7JUj_"
   },
   "outputs": [],
   "source": [
    "# Outro possível problema\n",
    "# Caso você não tenha o GPU ativado por padrão, você pode ir no menu Runtime > Change runtime type > GPU\n",
    "\n",
    "# gpu_info = !nvidia-smi\n",
    "# gpu_info = '\\n'.join(gpu_info)\n",
    "# if gpu_info.find('failed') >= 0:\n",
    "#   print('Select the Runtime > \"Change runtime type\" menu to enable a GPU accelerator, ')\n",
    "#   print('and then re-execute this cell.')\n",
    "# else:\n",
    "#   print(gpu_info)"
   ]
  },
  {
   "cell_type": "code",
   "execution_count": null,
   "metadata": {},
   "outputs": [],
   "source": [
    "!pip install pyyaml"
   ]
  },
  {
   "cell_type": "code",
   "execution_count": null,
   "metadata": {},
   "outputs": [],
   "source": [
    "# Acesso o seguinte diretorio\n",
    "\n",
    "import os\n",
    "os.chdir(local+'/first-order-model')\n",
    "print('Diretório atual: '+os.getcwd() )"
   ]
  },
  {
   "cell_type": "code",
   "execution_count": null,
   "metadata": {},
   "outputs": [],
   "source": [
    "# A Instalação do pacote abaixo pode demorar um pouco, na verdade muito!\n",
    "# Você pode realizar a instalação utulizando o terminal do miniconda ou conda, para acompanhar o progresso\n",
    "\n",
    "!conda install pytorch torchvision torchaudio cudatoolkit=10.2 -c pytorch -c=conda-forge\n",
    "# !conda install pytorch torchvision torchaudio cudatoolkit=10.2 -c pytorch\n",
    "# !pip install torch==1.8.0+cu102 torchvision==0.9.0+cu102 torchaudio===0.8.0 -f https://download.pytorch.org/whl/torch_stable.html"
   ]
  },
  {
   "cell_type": "code",
   "execution_count": null,
   "metadata": {},
   "outputs": [],
   "source": [
    "# Pacotes necessarios para rodar o proximo algoritimo\n",
    "\n",
    "!pip install -U scikit-learn\n",
    "!pip install pandas"
   ]
  },
  {
   "cell_type": "code",
   "execution_count": null,
   "metadata": {
    "colab": {},
    "colab_type": "code",
    "id": "3FQiXqQPWt5B"
   },
   "outputs": [],
   "source": [
    "import yaml\n",
    "import torch\n",
    "\n",
    "from demo import load_checkpoints\n",
    "generator, kp_detector = load_checkpoints(config_path='config/vox-256.yaml',\n",
    "#generator, kp_detector = load_checkpoints(config_path='C:/Users\\elias\\Desktop\\DeepFaker\\first-order-model\\config\\vox-256.yaml',\n",
    "                            checkpoint_path='C:/Users\\elias\\Desktop\\DeepFake/vox-cpk.pth.tar')"
   ]
  },
  {
   "cell_type": "markdown",
   "metadata": {
    "colab_type": "text",
    "id": "fdFdasHEj3t7"
   },
   "source": [
    "## Animando"
   ]
  },
  {
   "cell_type": "code",
   "execution_count": null,
   "metadata": {
    "colab": {
     "base_uri": "https://localhost:8080/",
     "height": 519,
     "referenced_widgets": [
      "d589d4cc400c4559b9f5f810b4af7e02",
      "f668971b11954f90a7398977d65e742c",
      "f63cd9db4b3843ca845b038204cae57d",
      "815849ceff8f4d238887dce83f85ecd4",
      "62d1573e784d44edafeae11d113ce107",
      "455223f083d247d18272172d728ece4d",
      "40f1b738a5a149628953e55831a6b82d",
      "a685f34ddf8641099026e1e7855ffc90"
     ]
    },
    "colab_type": "code",
    "id": "SB12II11kF4c",
    "outputId": "3a423c2f-3907-4f75-d503-9e664b348c86"
   },
   "outputs": [],
   "source": [
    "from demo import make_animation\n",
    "from skimage import img_as_ubyte\n",
    "from skimage.io import concatenate_images\n",
    "\n",
    "predictions = make_animation(source_image, driving_video, generator, kp_detector, relative=True)\n",
    "\n",
    "display_side_by_side(source_image, driving_video, predictions)"
   ]
  },
  {
   "cell_type": "code",
   "execution_count": null,
   "metadata": {
    "colab": {},
    "colab_type": "code",
    "id": "eTcwprdVIcp0"
   },
   "outputs": [],
   "source": [
    "def frames_to_frame(f1, f2,f3):\n",
    "  return np.concatenate((f1, np.array(f2), np.array(f3)),axis=1)"
   ]
  },
  {
   "cell_type": "code",
   "execution_count": null,
   "metadata": {
    "colab": {
     "base_uri": "https://localhost:8080/",
     "height": 551,
     "referenced_widgets": [
      "5f33449b7ac645d1a00f66566bfff6f9",
      "8907f65fb4ba4ad4b6ff1adc980843db",
      "77ba0c5084f14b049ed2379c549f5bac",
      "7a307cdb1db6453e8b6651fa9e8ea418",
      "fe16301509c9454b944482c5c0c74df2",
      "97b24fae86794c9196cd78c4ee92679b",
      "273832182ff6448fbcb8a1a2f73d6aa3",
      "49007da64e7f4a10b0701c5d0d54a9c0",
      "20cb8ce501b34c27afd4cc0039c90705",
      "a8476e986895490186811b8d36df918d",
      "ac38d06e7b0b427b9650090a35385cde",
      "3cf324bcded84a76b9e206e93f5b2ebb",
      "8b8d1c9257ed400790a212755f5f4599",
      "cc8b4ed3f8764a428692c3afbd4992b9",
      "cacb5fbfd9a04acbb3014d14e5cd1c5a",
      "fb951f0e342e4ee6bfab7618e9e95ccf"
     ]
    },
    "colab_type": "code",
    "id": "61qVitzIH5Th",
    "outputId": "cc4af138-629e-4f3d-e4da-6bea6548b2aa"
   },
   "outputs": [],
   "source": [
    "imageio.mimsave('../generated.mp4', [img_as_ubyte(frames_to_frame(source_image,f2,f3)) for f2,f3 in tqdm(zip(driving_video, predictions), desc=\"concatenating frames\")])\n",
    "\n",
    "display_side_by_side(source_image, driving_video, predictions)"
   ]
  },
  {
   "cell_type": "code",
   "execution_count": null,
   "metadata": {},
   "outputs": [],
   "source": [
    "!pip install files"
   ]
  },
  {
   "cell_type": "code",
   "execution_count": null,
   "metadata": {
    "colab": {
     "base_uri": "https://localhost:8080/",
     "height": 170
    },
    "colab_type": "code",
    "id": "qAcvGxmRnwPN",
    "outputId": "36587751-f1d7-4e95-c6aa-f133f5be181a",
    "scrolled": true
   },
   "outputs": [],
   "source": [
    "import files\n",
    "\n",
    "# files.download('../generated.mp4')\n",
    "ipython_display(\"../generated.mp4\")"
   ]
  },
  {
   "cell_type": "markdown",
   "metadata": {
    "colab_type": "text",
    "id": "PN0NG7cNHOVZ"
   },
   "source": [
    "## Definindo a velocidade"
   ]
  },
  {
   "cell_type": "code",
   "execution_count": null,
   "metadata": {
    "colab": {
     "base_uri": "https://localhost:8080/",
     "height": 34
    },
    "colab_type": "code",
    "id": "QE3qdp5TBvrm",
    "outputId": "b29eea3c-f598-49e0-e8e6-34bd94925239"
   },
   "outputs": [],
   "source": [
    "from moviepy.editor import VideoFileClip\n",
    "generated_duration = VideoFileClip(\"../generated.mp4\").duration\n",
    "original_duration = VideoFileClip(movie_source).duration\n",
    "multiple = generated_duration / original_duration\n",
    "print( generated_duration, original_duration, multiple )"
   ]
  },
  {
   "cell_type": "markdown",
   "metadata": {
    "colab_type": "text",
    "id": "2k1jDrcbHRAG"
   },
   "source": [
    "## O vídeo final"
   ]
  },
  {
   "cell_type": "code",
   "execution_count": null,
   "metadata": {
    "colab": {
     "base_uri": "https://localhost:8080/",
     "height": 188
    },
    "colab_type": "code",
    "id": "YzmcmQd5oMfx",
    "outputId": "39fec4f5-7f2c-4186-e6c3-ff58a303d08c"
   },
   "outputs": [],
   "source": [
    "#CASO O VIDEO ORIGINAL NÃO POSSUA AUDIO, PODE OCORRER UM ERRO, NÃO SE PREOCUPE!\n",
    "\n",
    "setpts = f'setpts=PTS/{multiple}'\n",
    "!ffmpeg -y -hide_banner -loglevel warning -i \"../generated.mp4\" -filter:v $setpts \"../generated_speed_control.mp4\"\n",
    "print(f\"Colocando o áudio\")\n",
    "\n",
    "final_name = f\"../generated_final_{base_name}.mp4\"\n",
    "!ffmpeg -y -hide_banner -loglevel warning -i \"../generated_speed_control.mp4\" -i $generated_audio -c:v copy -c:a aac $final_name\n",
    "\n",
    "ipython_display(final_name)"
   ]
  },
  {
   "cell_type": "markdown",
   "metadata": {
    "colab_type": "text",
    "id": "-tJN01xQCpqH"
   },
   "source": [
    "## Demonstração de keypoint relativos\n",
    "\n",
    "Estilo de cabelo etc serão copiados"
   ]
  },
  {
   "cell_type": "code",
   "execution_count": null,
   "metadata": {
    "colab": {
     "base_uri": "https://localhost:8080/",
     "height": 519,
     "referenced_widgets": [
      "fcebdfb5a19d47dab6e02735f3a3772e",
      "f8d10b52064645438251479029ba7b05",
      "482e924ec72e467d9ec87244fb9b2734",
      "310963a924764b5b90a380f97e4549f4",
      "2b3e2bc329214d9e8875146d3aff3947",
      "87d6df62152b4c92b21e14407c03d676",
      "79847665f7b34639b45fcacede483fdf",
      "4492d3ef3f9549c7868426f33d70cf17"
     ]
    },
    "colab_type": "code",
    "id": "aOE_W_kfC9aX",
    "outputId": "31d75630-afff-4f38-f2eb-d50e0e29c37e"
   },
   "outputs": [],
   "source": [
    "predictions = make_animation(source_image, driving_video, generator, kp_detector, relative=False, adapt_movement_scale=True)\n",
    "display_side_by_side(source_image, driving_video, predictions)"
   ]
  },
  {
   "cell_type": "markdown",
   "metadata": {
    "colab_type": "text",
    "id": "RaRO4wreiXsz"
   },
   "source": [
    "## Download"
   ]
  },
  {
   "cell_type": "code",
   "execution_count": null,
   "metadata": {
    "colab": {
     "base_uri": "https://localhost:8080/",
     "height": 17
    },
    "colab_type": "code",
    "id": "2mUqRL-0d_0P",
    "outputId": "6f08db5a-3ac1-4317-b592-9c6c32cd86ce"
   },
   "outputs": [],
   "source": [
    "import files\n",
    "files.download(final_name)"
   ]
  }
 ],
 "metadata": {
  "accelerator": "GPU",
  "colab": {
   "collapsed_sections": [],
   "name": "Deep Fake passo a passo",
   "provenance": [],
   "toc_visible": true
  },
  "kernelspec": {
   "display_name": "Python 3",
   "language": "python",
   "name": "python3"
  },
  "language_info": {
   "codemirror_mode": {
    "name": "ipython",
    "version": 3
   },
   "file_extension": ".py",
   "mimetype": "text/x-python",
   "name": "python",
   "nbconvert_exporter": "python",
   "pygments_lexer": "ipython3",
   "version": "3.8.5"
  }
 },
 "nbformat": 4,
 "nbformat_minor": 1
}
